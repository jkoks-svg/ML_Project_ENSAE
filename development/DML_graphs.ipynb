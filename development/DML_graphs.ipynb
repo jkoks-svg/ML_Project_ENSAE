{
 "cells": [
  {
   "cell_type": "markdown",
   "id": "503219b1-44d5-495a-83a2-bb01313c691b",
   "metadata": {},
   "source": [
    "## Scholarship vs covariates"
   ]
  },
  {
   "cell_type": "code",
   "execution_count": null,
   "id": "0ef6248c-389b-4df3-9af4-a1f7f19ef808",
   "metadata": {},
   "outputs": [],
   "source": [
    "# Train Random Forest to see which features matter for Scholarships\n",
    "ml_m = RandomForestClassifier(n_estimators=100, random_state=42)\n",
    "ml_m.fit(df[covariates_without_scholarship], df['scholarship_holder'])\n",
    "\n",
    "# Extract Feature Importance\n",
    "feature_importance = pd.Series(ml_m.feature_importances_, index=covariates_with_scholarship).sort_values(ascending=False)"
   ]
  },
  {
   "cell_type": "code",
   "execution_count": null,
   "id": "2927e7ec-59ad-469b-8245-f9c26624291d",
   "metadata": {},
   "outputs": [],
   "source": [
    "# Reverse palette: most important = lightest\n",
    "colors = sns.color_palette(\"Blues\", len(feature_importance))[::-1]\n",
    "\n",
    "# Create figure and plot\n",
    "plt.figure(figsize=(8, 6))\n",
    "ax = feature_importance.plot(\n",
    "    kind='bar',\n",
    "    color=colors,\n",
    "    width=0.75\n",
    ")\n",
    "\n",
    "# Title and labels\n",
    "ax.set_title(\"Feature Importance for Scholarship Eligibility\", fontsize=22, weight=\"bold\", pad=20)\n",
    "ax.set_ylabel(\"Importance Score\", fontsize=14)\n",
    "ax.set_xlabel(\"\")\n",
    "ax.tick_params(axis=\"both\", labelsize=12)\n",
    "ax.set_xticklabels(ax.get_xticklabels(), rotation=45, ha='right')\n",
    "\n",
    "\n",
    "# Gridlines\n",
    "ax.yaxis.grid(True, linestyle='--', linewidth=0.7)\n",
    "ax.xaxis.grid(False)\n",
    "\n",
    "# Remove spines\n",
    "for spine in ax.spines.values():\n",
    "    spine.set_visible(False)\n",
    "\n",
    "# Finalize\n",
    "plt.tight_layout()\n",
    "plt.savefig(\"feature_scholarship.png\", dpi=300, bbox_inches=\"tight\")\n",
    "plt.show()"
   ]
  },
  {
   "cell_type": "markdown",
   "id": "410c0176-8428-474f-905b-7e43670ac8bc",
   "metadata": {},
   "source": [
    "## Treatment vs covariates"
   ]
  },
  {
   "cell_type": "code",
   "execution_count": null,
   "id": "862b6687-2d6c-479f-8206-0619647d75b2",
   "metadata": {},
   "outputs": [],
   "source": [
    "# Training\n",
    "covariates_with_scholarship = [\n",
    "    \"application_order\", \"daytime/evening_attendance\", \"previous_qualification_(grade)\",\n",
    "    \"admission_grade\", \"displaced\", \"educational_special_needs\", \"gender\",\n",
    "    \"age_at_enrollment\", \"international\", \"unemployment_rate\", \"inflation_rate\", \"gdp\",\n",
    "    \"mother_educ\", \"father_educ\", \n",
    "    \"scholarship_holder\"\n",
    "]\n",
    "X = df[covariates_with_scholarship]\n",
    "\n",
    "X_encoded = pd.get_dummies(X, drop_first=True)\n",
    "y = df[\"binary_target\"]\n",
    "\n",
    "model = LassoCV(cv=5) \n",
    "model.fit(X_encoded, y)\n",
    "\n",
    "\n",
    "# Coefficients from LassoCV\n",
    "coef = model.coef_\n",
    "\n",
    "# Create a Series for feature importance\n",
    "feat_importance = pd.Series(coef, index=X_encoded.columns).abs()  # Use abs() to reflect strength\n",
    "\n",
    "# Get top 15 most important features (by absolute coefficient size)\n",
    "top_features = feat_importance.sort_values(ascending=False).head(15)\n",
    "\n",
    "# Plot them\n",
    "import matplotlib.pyplot as plt\n",
    "import seaborn as sns\n",
    "\n",
    "plt.figure(figsize=(8, 5))\n",
    "sns.barplot(x=top_features.values, y=top_features.index)\n",
    "plt.title(\"Top 15 Features by Lasso Coefficient Magnitude\")\n",
    "plt.xlabel(\"Coefficient Magnitude (Importance)\")\n",
    "plt.ylabel(\"Feature\")\n",
    "plt.tight_layout()\n",
    "plt.show()\n",
    "\n",
    "\n",
    "\n",
    "# # Calculate feature importance and get top 15\n",
    "# feat_importance = pd.Series(model.feature_importances_, index=X_encoded.columns)\n",
    "# top_features = feat_importance.sort_values(ascending=False).head(15)"
   ]
  },
  {
   "cell_type": "code",
   "execution_count": null,
   "id": "54e6cbb8-2687-45b5-bb9b-c9ced8efeed7",
   "metadata": {},
   "outputs": [],
   "source": [
    "colors = sns.color_palette(\"Blues\", len(top_features))[::-1]\n",
    "\n",
    "# Create figure and plot\n",
    "plt.figure(figsize=(8, 6))\n",
    "ax = top_features.plot(\n",
    "    kind='bar',\n",
    "    color=colors,\n",
    "    width=0.75\n",
    ")\n",
    "\n",
    "# Title and labels\n",
    "ax.set_title(\"Feature Importance for Dropout Rate\", fontsize=22, weight=\"bold\", pad=20)\n",
    "ax.set_ylabel(\"Importance Score\", fontsize=14)\n",
    "ax.set_xlabel(\"\")\n",
    "ax.tick_params(axis=\"both\", labelsize=12)\n",
    "ax.set_xticklabels(ax.get_xticklabels(), rotation=45, ha='right')\n",
    "\n",
    "\n",
    "# Gridlines\n",
    "ax.yaxis.grid(True, linestyle='--', linewidth=0.7)\n",
    "ax.xaxis.grid(False)\n",
    "\n",
    "# Remove spines\n",
    "for spine in ax.spines.values():\n",
    "    spine.set_visible(False)\n",
    "\n",
    "# Finalize\n",
    "plt.tight_layout()\n",
    "plt.savefig(\"feature_dropout.png\", dpi=300, bbox_inches=\"tight\")\n",
    "plt.show()"
   ]
  }
 ],
 "metadata": {
  "kernelspec": {
   "display_name": "Python [conda env:base] *",
   "language": "python",
   "name": "conda-base-py"
  },
  "language_info": {
   "codemirror_mode": {
    "name": "ipython",
    "version": 3
   },
   "file_extension": ".py",
   "mimetype": "text/x-python",
   "name": "python",
   "nbconvert_exporter": "python",
   "pygments_lexer": "ipython3",
   "version": "3.12.7"
  }
 },
 "nbformat": 4,
 "nbformat_minor": 5
}
